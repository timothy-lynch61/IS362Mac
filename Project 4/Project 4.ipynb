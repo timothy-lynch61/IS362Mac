{
 "cells": [
  {
   "cell_type": "markdown",
   "metadata": {},
   "source": [
    "# Project 4\n",
    "Student: Tim Lynch<br>\n",
    "Professor: Charles Pak<br>\n",
    "\n",
    "For this project we are to take our data from last week (Mushroom data) and use predictive analysis to determine if our columns are benefical in determining if a mushroom is poisonous. \n",
    "\n",
    "The first step will be to load the data. Followed by preparing the data for SciKitLearn. The next step is evaluating different models for accuracy. Then we determine if the references we chose were beneficial or not. "
   ]
  },
  {
   "cell_type": "code",
   "execution_count": 45,
   "metadata": {},
   "outputs": [
    {
     "data": {
      "text/html": [
       "<div>\n",
       "<style scoped>\n",
       "    .dataframe tbody tr th:only-of-type {\n",
       "        vertical-align: middle;\n",
       "    }\n",
       "\n",
       "    .dataframe tbody tr th {\n",
       "        vertical-align: top;\n",
       "    }\n",
       "\n",
       "    .dataframe thead th {\n",
       "        text-align: right;\n",
       "    }\n",
       "</style>\n",
       "<table border=\"1\" class=\"dataframe\">\n",
       "  <thead>\n",
       "    <tr style=\"text-align: right;\">\n",
       "      <th></th>\n",
       "      <th>Dangerous</th>\n",
       "      <th>Cap-Color</th>\n",
       "      <th>Odor</th>\n",
       "    </tr>\n",
       "  </thead>\n",
       "  <tbody>\n",
       "    <tr>\n",
       "      <th>0</th>\n",
       "      <td>1</td>\n",
       "      <td>0</td>\n",
       "      <td>7</td>\n",
       "    </tr>\n",
       "    <tr>\n",
       "      <th>1</th>\n",
       "      <td>0</td>\n",
       "      <td>9</td>\n",
       "      <td>0</td>\n",
       "    </tr>\n",
       "    <tr>\n",
       "      <th>2</th>\n",
       "      <td>0</td>\n",
       "      <td>8</td>\n",
       "      <td>1</td>\n",
       "    </tr>\n",
       "    <tr>\n",
       "      <th>3</th>\n",
       "      <td>1</td>\n",
       "      <td>8</td>\n",
       "      <td>7</td>\n",
       "    </tr>\n",
       "    <tr>\n",
       "      <th>4</th>\n",
       "      <td>0</td>\n",
       "      <td>3</td>\n",
       "      <td>6</td>\n",
       "    </tr>\n",
       "  </tbody>\n",
       "</table>\n",
       "</div>"
      ],
      "text/plain": [
       "   Dangerous  Cap-Color  Odor\n",
       "0          1          0     7\n",
       "1          0          9     0\n",
       "2          0          8     1\n",
       "3          1          8     7\n",
       "4          0          3     6"
      ]
     },
     "execution_count": 45,
     "metadata": {},
     "output_type": "execute_result"
    }
   ],
   "source": [
    "#Imports\n",
    "\n",
    "import pandas as pd\n",
    "import numpy as np\n",
    "import seaborn as sns\n",
    "import matplotlib as plt\n",
    "\n",
    "#MatPlotLib \n",
    "%matplotlib inline\n",
    "\n",
    "#Only the data we want\n",
    "partial_data = pd.read_csv('https://archive.ics.uci.edu/ml/machine-learning-databases/mushroom/agaricus-lepiota.data',header=None,usecols = [0,3,5])\n",
    "\n",
    "column_data = ['Dangerous','Cap-Color','Odor']\n",
    "partial_data.columns = column_data\n",
    "partial_data.head()\n",
    "\n",
    "#Convert the values to strings and set encoding\n",
    "partial_data['Dangerous'] = partial_data['Dangerous'].replace(to_replace = {'e':'0','p':'1'})\n",
    "partial_data['Cap-Color'] = partial_data['Cap-Color'].replace(to_replace = {'n':'0','b':'1','c':'2','g':'3','r':'4',\n",
    "                                                                            'p':'5','u':'6','e':'7', 'w':'8','y':'9'})\n",
    "partial_data['Odor'] = partial_data['Odor'].replace(to_replace = {'a':'0', 'l':'1','c':'2','y':'3','f':'4','m':'5',\n",
    "                                                                  'n':'6','p':'7','s':'8'})\n",
    "#Convert to Int\n",
    "partial_data['Dangerous'] = partial_data['Dangerous'].astype(int)\n",
    "partial_data['Cap-Color'] = partial_data['Cap-Color'].astype(int)\n",
    "partial_data['Odor'] = partial_data['Odor'].astype(int)\n",
    "\n",
    "#See the data\n",
    "partial_data.head()"
   ]
  },
  {
   "cell_type": "code",
   "execution_count": 46,
   "metadata": {},
   "outputs": [],
   "source": [
    "#Preparing Features and Respone\n",
    "\n",
    "#Preparing X and y \n",
    "features = ['Cap-Color', 'Odor']\n",
    "X = partial_data[features]\n",
    "y = partial_data['Dangerous']"
   ]
  },
  {
   "cell_type": "markdown",
   "metadata": {},
   "source": [
    "# Model Evaluation: Train/Test Split Linear Regression vs. KNN:1 thru KNN:25"
   ]
  },
  {
   "cell_type": "code",
   "execution_count": 47,
   "metadata": {},
   "outputs": [
    {
     "name": "stdout",
     "output_type": "stream",
     "text": [
      "0.6172307692307692\n"
     ]
    }
   ],
   "source": [
    "#Import class\n",
    "from sklearn.neighbors import KNeighborsClassifier\n",
    "from sklearn.linear_model import LogisticRegression\n",
    "from sklearn.model_selection import train_test_split\n",
    "from sklearn import metrics\n",
    "\n",
    "\n",
    "#Train/Test/Split data\n",
    "X_train,X_test, y_train, y_test = train_test_split(X, y, test_size = 0.4)\n",
    "\n",
    "\n",
    "#Linear Regression\n",
    "\n",
    "#Instantiate the model(using the default parameters)\n",
    "logreg = LogisticRegression(solver = 'lbfgs')\n",
    "\n",
    "#Fit the model with data\n",
    "logreg.fit(X_train, y_train)\n",
    "\n",
    "#Predict and Store the response values for the observations in X\n",
    "y_pred = logreg.predict(X_test)\n",
    "\n",
    "#Computer classification accuracy\n",
    "print(metrics.accuracy_score(y_test,y_pred))"
   ]
  },
  {
   "cell_type": "code",
   "execution_count": 48,
   "metadata": {},
   "outputs": [
    {
     "name": "stdout",
     "output_type": "stream",
     "text": [
      "[0.6172307692307692, 0.6172307692307692, 0.6172307692307692, 0.6172307692307692, 0.6172307692307692, 0.6172307692307692, 0.6172307692307692, 0.6172307692307692, 0.6172307692307692, 0.6172307692307692, 0.6172307692307692, 0.6172307692307692, 0.6172307692307692, 0.6172307692307692, 0.6172307692307692, 0.6172307692307692, 0.6172307692307692, 0.6172307692307692, 0.6172307692307692, 0.6172307692307692, 0.6172307692307692, 0.6172307692307692, 0.6172307692307692, 0.6172307692307692, 0.6172307692307692]\n"
     ]
    },
    {
     "data": {
      "image/png": "[encoded data removed]",
      "text/plain": [
       "<Figure size 432x288 with 1 Axes>"
      ]
     },
     "metadata": {
      "needs_background": "light"
     },
     "output_type": "display_data"
    }
   ],
   "source": [
    "#KNN: 1 - 25\n",
    "import matplotlib.pyplot as plt\n",
    "%matplotlib inline\n",
    "\n",
    "k_range = range(1,26)\n",
    "scores = []\n",
    "for k in k_range:\n",
    "    knn = KNeighborsClassifier(n_neighbors = k)\n",
    "    knn.fit(X_train, y_train)\n",
    "    y.pred = knn.predict(X_test)\n",
    "    scores.append(metrics.accuracy_score(y_test, y_pred))\n",
    "    \n",
    "plt.plot(k_range, scores)\n",
    "plt.xlabel(\"Value of K for KNN\")\n",
    "plt.ylabel(\"Testing Accuracy\")\n",
    "\n",
    "print(scores)"
   ]
  },
  {
   "cell_type": "markdown",
   "metadata": {},
   "source": [
    "__As we can tell above there is no benefit for linear regression vs. KNN: 1 thru 25 testing.__\n",
    "\n",
    "# Conclusion\n",
    "\n",
    "While the accuracy for determining if a mushroom is poisonous or not based off of 'odor' and 'Cap-Color' is only 61 to 63 percent (kept changing every time I reran the test). We can look at that as an association to be linked to poisonous or not. It might not be the most accurate, but we would stay on the safer side by ignorning the mushrooms. \n",
    "\n",
    "I feel like there is something missing in the attributes, and would like for them to include more scientific data on mushrooms. For instance what DNA markers result in a poisonous mushroom? That would be a better indicator and would make the data more reliable.  "
   ]
  },
  {
   "cell_type": "code",
   "execution_count": null,
   "metadata": {},
   "outputs": [],
   "source": []
  }
 ],
 "metadata": {
  "kernelspec": {
   "display_name": "Python 3",
   "language": "python",
   "name": "python3"
  },
  "language_info": {
   "codemirror_mode": {
    "name": "ipython",
    "version": 3
   },
   "file_extension": ".py",
   "mimetype": "text/x-python",
   "name": "python",
   "nbconvert_exporter": "python",
   "pygments_lexer": "ipython3",
   "version": "3.7.3"
  }
 },
 "nbformat": 4,
 "nbformat_minor": 2
}

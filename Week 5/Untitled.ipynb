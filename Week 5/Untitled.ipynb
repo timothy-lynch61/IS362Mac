{
 "cells": [
  {
   "cell_type": "markdown",
   "metadata": {},
   "source": [
    "# Week 5 Assignment\n",
    "Student: Tim Lynch\n",
    "Professor: Charles Pak\n",
    "\n",
    "\n",
    "Answer three questions:\n",
    "\n",
    "1) What is the northernmost airport in the United States\n",
    "2) What is the easternmost airport in the United States\n",
    "3) On Feb 12th, 2013, which New York Area airport had the windiest weather"
   ]
  },
  {
   "cell_type": "code",
   "execution_count": null,
   "metadata": {},
   "outputs": [],
   "source": [
    "#Import Pandas \n",
    "import pandas as pd\n",
    "\n",
    "#Import Sourcefile\n",
    "\n"
   ]
  }
 ],
 "metadata": {
  "kernelspec": {
   "display_name": "Python 3",
   "language": "python",
   "name": "python3"
  },
  "language_info": {
   "codemirror_mode": {
    "name": "ipython",
    "version": 3
   },
   "file_extension": ".py",
   "mimetype": "text/x-python",
   "name": "python",
   "nbconvert_exporter": "python",
   "pygments_lexer": "ipython3",
   "version": "3.7.3"
  }
 },
 "nbformat": 4,
 "nbformat_minor": 2
}
